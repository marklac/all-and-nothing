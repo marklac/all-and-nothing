{
 "cells": [
  {
   "cell_type": "code",
   "execution_count": 1,
   "id": "09272b40",
   "metadata": {},
   "outputs": [],
   "source": [
    "import numpy as np"
   ]
  },
  {
   "cell_type": "code",
   "execution_count": 2,
   "id": "50a25758",
   "metadata": {},
   "outputs": [],
   "source": [
    "j = complex(0,1)"
   ]
  },
  {
   "cell_type": "code",
   "execution_count": 3,
   "id": "7dc49c26",
   "metadata": {},
   "outputs": [
    {
     "data": {
      "text/plain": [
       "array([[0, 1],\n",
       "       [1, 0]])"
      ]
     },
     "execution_count": 3,
     "metadata": {},
     "output_type": "execute_result"
    }
   ],
   "source": [
    "X = np.array([[0, 1],[1,0]])\n",
    "X"
   ]
  },
  {
   "cell_type": "code",
   "execution_count": 4,
   "id": "aba98665",
   "metadata": {},
   "outputs": [
    {
     "data": {
      "text/plain": [
       "array([[ 0.+0.j, -0.-1.j],\n",
       "       [ 0.+1.j,  0.+0.j]])"
      ]
     },
     "execution_count": 4,
     "metadata": {},
     "output_type": "execute_result"
    }
   ],
   "source": [
    "Y = np.array([[0, -j],[j, 0]])\n",
    "Y"
   ]
  },
  {
   "cell_type": "code",
   "execution_count": 5,
   "id": "2aa44aff",
   "metadata": {},
   "outputs": [
    {
     "data": {
      "text/plain": [
       "array([[1],\n",
       "       [0]])"
      ]
     },
     "execution_count": 5,
     "metadata": {},
     "output_type": "execute_result"
    }
   ],
   "source": [
    "one = np.array([[1],[0]])\n",
    "one"
   ]
  },
  {
   "cell_type": "code",
   "execution_count": 6,
   "id": "495e64bb",
   "metadata": {},
   "outputs": [
    {
     "data": {
      "text/plain": [
       "array([[0],\n",
       "       [1]])"
      ]
     },
     "execution_count": 6,
     "metadata": {},
     "output_type": "execute_result"
    }
   ],
   "source": [
    "zero = np.array([[0],[1]])\n",
    "zero"
   ]
  },
  {
   "cell_type": "code",
   "execution_count": 7,
   "id": "1f168bf1",
   "metadata": {},
   "outputs": [],
   "source": [
    "zero3 = np.kron(zero,np.kron(zero,zero))"
   ]
  },
  {
   "cell_type": "code",
   "execution_count": 8,
   "id": "77063639",
   "metadata": {},
   "outputs": [],
   "source": [
    "one3 = np.kron(one,np.kron(one,one))"
   ]
  },
  {
   "cell_type": "code",
   "execution_count": 9,
   "id": "d386d459",
   "metadata": {},
   "outputs": [
    {
     "data": {
      "text/plain": [
       "array([[0.5],\n",
       "       [0. ],\n",
       "       [0. ],\n",
       "       [0. ],\n",
       "       [0. ],\n",
       "       [0. ],\n",
       "       [0. ],\n",
       "       [0.5]])"
      ]
     },
     "execution_count": 9,
     "metadata": {},
     "output_type": "execute_result"
    }
   ],
   "source": [
    "ψ = 1/2*(zero3 + one3)\n",
    "ψ"
   ]
  },
  {
   "cell_type": "code",
   "execution_count": 10,
   "id": "586752ac",
   "metadata": {},
   "outputs": [
    {
     "data": {
      "text/plain": [
       "array([[0.5, 0. , 0. , 0. , 0. , 0. , 0. , 0.5]])"
      ]
     },
     "execution_count": 10,
     "metadata": {},
     "output_type": "execute_result"
    }
   ],
   "source": [
    "ψt = np.transpose(ψ)\n",
    "ψt"
   ]
  },
  {
   "cell_type": "code",
   "execution_count": 11,
   "id": "316608f2",
   "metadata": {},
   "outputs": [
    {
     "data": {
      "text/plain": [
       "array([[ 0.+0.j,  0.-0.j,  0.-0.j, -1.+0.j],\n",
       "       [ 0.+0.j,  0.+0.j,  1.-0.j,  0.-0.j],\n",
       "       [ 0.+0.j,  1.-0.j,  0.+0.j,  0.-0.j],\n",
       "       [-1.+0.j,  0.+0.j,  0.+0.j,  0.+0.j]])"
      ]
     },
     "execution_count": 11,
     "metadata": {},
     "output_type": "execute_result"
    }
   ],
   "source": [
    "YY = np.kron(Y,Y)\n",
    "YY"
   ]
  },
  {
   "cell_type": "code",
   "execution_count": 12,
   "id": "aa603422",
   "metadata": {},
   "outputs": [
    {
     "data": {
      "text/plain": [
       "array([[ 0.+0.j,  0.+0.j,  0.+0.j, -0.+0.j,  0.-0.j, -0.+0.j, -0.+0.j,\n",
       "         0.+1.j],\n",
       "       [ 0.+0.j,  0.+0.j,  0.+0.j,  0.+0.j,  0.-0.j,  0.-0.j, -0.-1.j,\n",
       "        -0.+0.j],\n",
       "       [ 0.+0.j,  0.+0.j,  0.+0.j,  0.+0.j,  0.-0.j, -0.-1.j,  0.-0.j,\n",
       "        -0.+0.j],\n",
       "       [-0.+0.j,  0.+0.j,  0.+0.j,  0.+0.j,  0.+1.j,  0.-0.j,  0.-0.j,\n",
       "         0.-0.j],\n",
       "       [ 0.+0.j,  0.+0.j,  0.+0.j, -0.-1.j,  0.+0.j,  0.+0.j,  0.+0.j,\n",
       "        -0.+0.j],\n",
       "       [ 0.+0.j,  0.+0.j,  0.+1.j,  0.+0.j,  0.+0.j,  0.+0.j,  0.+0.j,\n",
       "         0.+0.j],\n",
       "       [ 0.+0.j,  0.+1.j,  0.+0.j,  0.+0.j,  0.+0.j,  0.+0.j,  0.+0.j,\n",
       "         0.+0.j],\n",
       "       [-0.-1.j,  0.+0.j,  0.+0.j,  0.+0.j, -0.+0.j,  0.+0.j,  0.+0.j,\n",
       "         0.+0.j]])"
      ]
     },
     "execution_count": 12,
     "metadata": {},
     "output_type": "execute_result"
    }
   ],
   "source": [
    "YYY = np.kron(Y,YY)\n",
    "YYY"
   ]
  },
  {
   "cell_type": "code",
   "execution_count": 13,
   "id": "6d8198ce",
   "metadata": {},
   "outputs": [
    {
     "data": {
      "text/plain": [
       "array([[ 0.+0.j  ,  0.+0.j  ,  0.+0.j  , -0.+0.j  ,  0.+0.j  , -0.+0.j  ,\n",
       "        -0.+0.j  ,  0.+0.25j],\n",
       "       [ 0.+0.j  ,  0.+0.j  ,  0.+0.j  ,  0.+0.j  ,  0.+0.j  ,  0.+0.j  ,\n",
       "         0.+0.j  , -0.+0.j  ],\n",
       "       [ 0.+0.j  ,  0.+0.j  ,  0.+0.j  ,  0.+0.j  ,  0.+0.j  ,  0.+0.j  ,\n",
       "         0.+0.j  , -0.+0.j  ],\n",
       "       [-0.+0.j  ,  0.+0.j  ,  0.+0.j  ,  0.+0.j  ,  0.+0.j  ,  0.+0.j  ,\n",
       "         0.+0.j  ,  0.+0.j  ],\n",
       "       [ 0.+0.j  ,  0.+0.j  ,  0.+0.j  ,  0.+0.j  ,  0.+0.j  ,  0.+0.j  ,\n",
       "         0.+0.j  , -0.+0.j  ],\n",
       "       [ 0.+0.j  ,  0.+0.j  ,  0.+0.j  ,  0.+0.j  ,  0.+0.j  ,  0.+0.j  ,\n",
       "         0.+0.j  ,  0.+0.j  ],\n",
       "       [ 0.+0.j  ,  0.+0.j  ,  0.+0.j  ,  0.+0.j  ,  0.+0.j  ,  0.+0.j  ,\n",
       "         0.+0.j  ,  0.+0.j  ],\n",
       "       [ 0.-0.25j,  0.+0.j  ,  0.+0.j  ,  0.+0.j  , -0.+0.j  ,  0.+0.j  ,\n",
       "         0.+0.j  ,  0.+0.j  ]])"
      ]
     },
     "execution_count": 13,
     "metadata": {},
     "output_type": "execute_result"
    }
   ],
   "source": [
    "ψt*YYY*ψ"
   ]
  },
  {
   "cell_type": "code",
   "execution_count": 14,
   "id": "b76ab6ff",
   "metadata": {},
   "outputs": [
    {
     "data": {
      "text/plain": [
       "array([[0.+0.j, 0.-0.j, 0.+0.j, 0.-1.j],\n",
       "       [0.+0.j, 0.+0.j, 0.+1.j, 0.+0.j],\n",
       "       [0.+0.j, 0.-1.j, 0.+0.j, 0.-0.j],\n",
       "       [0.+1.j, 0.+0.j, 0.+0.j, 0.+0.j]])"
      ]
     },
     "execution_count": 14,
     "metadata": {},
     "output_type": "execute_result"
    }
   ],
   "source": [
    "XY = np.kron(X,Y)\n",
    "XY"
   ]
  },
  {
   "cell_type": "code",
   "execution_count": 15,
   "id": "49204b19",
   "metadata": {},
   "outputs": [
    {
     "data": {
      "text/plain": [
       "array([[0.+0.j, 0.+0.j, 0.+0.j, 0.+0.j, 0.+0.j, 0.+0.j, 0.+0.j, 0.-1.j],\n",
       "       [0.+0.j, 0.+0.j, 0.+0.j, 0.+0.j, 0.+0.j, 0.+0.j, 0.+1.j, 0.+0.j],\n",
       "       [0.+0.j, 0.+0.j, 0.+0.j, 0.+0.j, 0.+0.j, 0.-1.j, 0.+0.j, 0.+0.j],\n",
       "       [0.+0.j, 0.+0.j, 0.+0.j, 0.+0.j, 0.+1.j, 0.+0.j, 0.+0.j, 0.+0.j],\n",
       "       [0.+0.j, 0.+0.j, 0.+0.j, 0.-1.j, 0.+0.j, 0.+0.j, 0.+0.j, 0.+0.j],\n",
       "       [0.+0.j, 0.+0.j, 0.+1.j, 0.+0.j, 0.+0.j, 0.+0.j, 0.+0.j, 0.+0.j],\n",
       "       [0.+0.j, 0.-1.j, 0.+0.j, 0.+0.j, 0.+0.j, 0.+0.j, 0.+0.j, 0.+0.j],\n",
       "       [0.+1.j, 0.+0.j, 0.+0.j, 0.+0.j, 0.+0.j, 0.+0.j, 0.+0.j, 0.+0.j]])"
      ]
     },
     "execution_count": 15,
     "metadata": {},
     "output_type": "execute_result"
    }
   ],
   "source": [
    "XXY = np.kron(X,XY)\n",
    "XXY"
   ]
  },
  {
   "cell_type": "code",
   "execution_count": 16,
   "id": "d79e51f8",
   "metadata": {},
   "outputs": [
    {
     "data": {
      "text/plain": [
       "array([[0.+0.j  , 0.+0.j  , 0.+0.j  , 0.+0.j  , 0.+0.j  , 0.+0.j  ,\n",
       "        0.+0.j  , 0.-0.25j],\n",
       "       [0.+0.j  , 0.+0.j  , 0.+0.j  , 0.+0.j  , 0.+0.j  , 0.+0.j  ,\n",
       "        0.+0.j  , 0.+0.j  ],\n",
       "       [0.+0.j  , 0.+0.j  , 0.+0.j  , 0.+0.j  , 0.+0.j  , 0.+0.j  ,\n",
       "        0.+0.j  , 0.+0.j  ],\n",
       "       [0.+0.j  , 0.+0.j  , 0.+0.j  , 0.+0.j  , 0.+0.j  , 0.+0.j  ,\n",
       "        0.+0.j  , 0.+0.j  ],\n",
       "       [0.+0.j  , 0.+0.j  , 0.+0.j  , 0.+0.j  , 0.+0.j  , 0.+0.j  ,\n",
       "        0.+0.j  , 0.+0.j  ],\n",
       "       [0.+0.j  , 0.+0.j  , 0.+0.j  , 0.+0.j  , 0.+0.j  , 0.+0.j  ,\n",
       "        0.+0.j  , 0.+0.j  ],\n",
       "       [0.+0.j  , 0.+0.j  , 0.+0.j  , 0.+0.j  , 0.+0.j  , 0.+0.j  ,\n",
       "        0.+0.j  , 0.+0.j  ],\n",
       "       [0.+0.25j, 0.+0.j  , 0.+0.j  , 0.+0.j  , 0.+0.j  , 0.+0.j  ,\n",
       "        0.+0.j  , 0.+0.j  ]])"
      ]
     },
     "execution_count": 16,
     "metadata": {},
     "output_type": "execute_result"
    }
   ],
   "source": [
    "ψt*XXY*ψ"
   ]
  },
  {
   "cell_type": "code",
   "execution_count": 17,
   "id": "2a2a8673",
   "metadata": {},
   "outputs": [
    {
     "data": {
      "text/plain": [
       "array([[0.+0.j, 0.+0.j, 0.-0.j, 0.-1.j],\n",
       "       [0.+0.j, 0.+0.j, 0.-1.j, 0.-0.j],\n",
       "       [0.+0.j, 0.+1.j, 0.+0.j, 0.+0.j],\n",
       "       [0.+1.j, 0.+0.j, 0.+0.j, 0.+0.j]])"
      ]
     },
     "execution_count": 17,
     "metadata": {},
     "output_type": "execute_result"
    }
   ],
   "source": [
    "YX = np.kron(Y,X)\n",
    "YX"
   ]
  },
  {
   "cell_type": "code",
   "execution_count": 18,
   "id": "acee6458",
   "metadata": {},
   "outputs": [
    {
     "data": {
      "text/plain": [
       "array([[0.+0.j, 0.+0.j, 0.+0.j, 0.+0.j, 0.+0.j, 0.+0.j, 0.+0.j, 0.-1.j],\n",
       "       [0.+0.j, 0.+0.j, 0.+0.j, 0.+0.j, 0.+0.j, 0.+0.j, 0.-1.j, 0.+0.j],\n",
       "       [0.+0.j, 0.+0.j, 0.+0.j, 0.+0.j, 0.+0.j, 0.+1.j, 0.+0.j, 0.+0.j],\n",
       "       [0.+0.j, 0.+0.j, 0.+0.j, 0.+0.j, 0.+1.j, 0.+0.j, 0.+0.j, 0.+0.j],\n",
       "       [0.+0.j, 0.+0.j, 0.+0.j, 0.-1.j, 0.+0.j, 0.+0.j, 0.+0.j, 0.+0.j],\n",
       "       [0.+0.j, 0.+0.j, 0.-1.j, 0.+0.j, 0.+0.j, 0.+0.j, 0.+0.j, 0.+0.j],\n",
       "       [0.+0.j, 0.+1.j, 0.+0.j, 0.+0.j, 0.+0.j, 0.+0.j, 0.+0.j, 0.+0.j],\n",
       "       [0.+1.j, 0.+0.j, 0.+0.j, 0.+0.j, 0.+0.j, 0.+0.j, 0.+0.j, 0.+0.j]])"
      ]
     },
     "execution_count": 18,
     "metadata": {},
     "output_type": "execute_result"
    }
   ],
   "source": [
    "XYX = np.kron(X,YX)\n",
    "XYX"
   ]
  },
  {
   "cell_type": "code",
   "execution_count": 19,
   "id": "93489eef",
   "metadata": {},
   "outputs": [
    {
     "data": {
      "text/plain": [
       "array([[0.+0.j  , 0.+0.j  , 0.+0.j  , 0.+0.j  , 0.+0.j  , 0.+0.j  ,\n",
       "        0.+0.j  , 0.-0.25j],\n",
       "       [0.+0.j  , 0.+0.j  , 0.+0.j  , 0.+0.j  , 0.+0.j  , 0.+0.j  ,\n",
       "        0.+0.j  , 0.+0.j  ],\n",
       "       [0.+0.j  , 0.+0.j  , 0.+0.j  , 0.+0.j  , 0.+0.j  , 0.+0.j  ,\n",
       "        0.+0.j  , 0.+0.j  ],\n",
       "       [0.+0.j  , 0.+0.j  , 0.+0.j  , 0.+0.j  , 0.+0.j  , 0.+0.j  ,\n",
       "        0.+0.j  , 0.+0.j  ],\n",
       "       [0.+0.j  , 0.+0.j  , 0.+0.j  , 0.+0.j  , 0.+0.j  , 0.+0.j  ,\n",
       "        0.+0.j  , 0.+0.j  ],\n",
       "       [0.+0.j  , 0.+0.j  , 0.+0.j  , 0.+0.j  , 0.+0.j  , 0.+0.j  ,\n",
       "        0.+0.j  , 0.+0.j  ],\n",
       "       [0.+0.j  , 0.+0.j  , 0.+0.j  , 0.+0.j  , 0.+0.j  , 0.+0.j  ,\n",
       "        0.+0.j  , 0.+0.j  ],\n",
       "       [0.+0.25j, 0.+0.j  , 0.+0.j  , 0.+0.j  , 0.+0.j  , 0.+0.j  ,\n",
       "        0.+0.j  , 0.+0.j  ]])"
      ]
     },
     "execution_count": 19,
     "metadata": {},
     "output_type": "execute_result"
    }
   ],
   "source": [
    "ψt*XYX*ψ"
   ]
  },
  {
   "cell_type": "code",
   "execution_count": 20,
   "id": "50b106c0",
   "metadata": {},
   "outputs": [
    {
     "data": {
      "text/plain": [
       "array([[0, 0, 0, 1],\n",
       "       [0, 0, 1, 0],\n",
       "       [0, 1, 0, 0],\n",
       "       [1, 0, 0, 0]])"
      ]
     },
     "execution_count": 20,
     "metadata": {},
     "output_type": "execute_result"
    }
   ],
   "source": [
    "XX = np.kron(X,X)\n",
    "XX"
   ]
  },
  {
   "cell_type": "code",
   "execution_count": 21,
   "id": "4bee711d",
   "metadata": {},
   "outputs": [
    {
     "data": {
      "text/plain": [
       "array([[0.+0.j, 0.+0.j, 0.+0.j, 0.+0.j, 0.-0.j, 0.-0.j, 0.-0.j, 0.-1.j],\n",
       "       [0.+0.j, 0.+0.j, 0.+0.j, 0.+0.j, 0.-0.j, 0.-0.j, 0.-1.j, 0.-0.j],\n",
       "       [0.+0.j, 0.+0.j, 0.+0.j, 0.+0.j, 0.-0.j, 0.-1.j, 0.-0.j, 0.-0.j],\n",
       "       [0.+0.j, 0.+0.j, 0.+0.j, 0.+0.j, 0.-1.j, 0.-0.j, 0.-0.j, 0.-0.j],\n",
       "       [0.+0.j, 0.+0.j, 0.+0.j, 0.+1.j, 0.+0.j, 0.+0.j, 0.+0.j, 0.+0.j],\n",
       "       [0.+0.j, 0.+0.j, 0.+1.j, 0.+0.j, 0.+0.j, 0.+0.j, 0.+0.j, 0.+0.j],\n",
       "       [0.+0.j, 0.+1.j, 0.+0.j, 0.+0.j, 0.+0.j, 0.+0.j, 0.+0.j, 0.+0.j],\n",
       "       [0.+1.j, 0.+0.j, 0.+0.j, 0.+0.j, 0.+0.j, 0.+0.j, 0.+0.j, 0.+0.j]])"
      ]
     },
     "execution_count": 21,
     "metadata": {},
     "output_type": "execute_result"
    }
   ],
   "source": [
    "YXX = np.kron(Y,XX)\n",
    "YXX"
   ]
  },
  {
   "cell_type": "code",
   "execution_count": 22,
   "id": "01bf114f",
   "metadata": {},
   "outputs": [
    {
     "data": {
      "text/plain": [
       "array([[0.+0.j  , 0.+0.j  , 0.+0.j  , 0.+0.j  , 0.+0.j  , 0.+0.j  ,\n",
       "        0.+0.j  , 0.-0.25j],\n",
       "       [0.+0.j  , 0.+0.j  , 0.+0.j  , 0.+0.j  , 0.+0.j  , 0.+0.j  ,\n",
       "        0.+0.j  , 0.+0.j  ],\n",
       "       [0.+0.j  , 0.+0.j  , 0.+0.j  , 0.+0.j  , 0.+0.j  , 0.+0.j  ,\n",
       "        0.+0.j  , 0.+0.j  ],\n",
       "       [0.+0.j  , 0.+0.j  , 0.+0.j  , 0.+0.j  , 0.+0.j  , 0.+0.j  ,\n",
       "        0.+0.j  , 0.+0.j  ],\n",
       "       [0.+0.j  , 0.+0.j  , 0.+0.j  , 0.+0.j  , 0.+0.j  , 0.+0.j  ,\n",
       "        0.+0.j  , 0.+0.j  ],\n",
       "       [0.+0.j  , 0.+0.j  , 0.+0.j  , 0.+0.j  , 0.+0.j  , 0.+0.j  ,\n",
       "        0.+0.j  , 0.+0.j  ],\n",
       "       [0.+0.j  , 0.+0.j  , 0.+0.j  , 0.+0.j  , 0.+0.j  , 0.+0.j  ,\n",
       "        0.+0.j  , 0.+0.j  ],\n",
       "       [0.+0.25j, 0.+0.j  , 0.+0.j  , 0.+0.j  , 0.+0.j  , 0.+0.j  ,\n",
       "        0.+0.j  , 0.+0.j  ]])"
      ]
     },
     "execution_count": 22,
     "metadata": {},
     "output_type": "execute_result"
    }
   ],
   "source": [
    "ψt*YXX*ψ"
   ]
  }
 ],
 "metadata": {
  "kernelspec": {
   "display_name": "Python 3 (ipykernel)",
   "language": "python",
   "name": "python3"
  },
  "language_info": {
   "codemirror_mode": {
    "name": "ipython",
    "version": 3
   },
   "file_extension": ".py",
   "mimetype": "text/x-python",
   "name": "python",
   "nbconvert_exporter": "python",
   "pygments_lexer": "ipython3",
   "version": "3.9.7"
  }
 },
 "nbformat": 4,
 "nbformat_minor": 5
}
